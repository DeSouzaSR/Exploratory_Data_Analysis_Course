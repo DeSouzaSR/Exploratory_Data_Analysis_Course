{
 "cells": [
  {
   "cell_type": "markdown",
   "id": "19456ac8-8a4f-4509-8883-ac6b8c08b801",
   "metadata": {},
   "source": [
    "# Exercícios de revisão de Python "
   ]
  },
  {
   "cell_type": "markdown",
   "id": "374ceddf-1719-4fea-8208-50c317eed863",
   "metadata": {},
   "source": [
    "## Questão 1\n",
    "\n",
    "Crie um script que solicite ao usuário dois números e qual operação ele deseja\n",
    "realizar `+, -, *, /`. Seu programa deve exibir o resultado da operação desejada pelo\n",
    "usuário com os dois números digitados."
   ]
  },
  {
   "cell_type": "code",
   "execution_count": 109,
   "id": "074bf9a0-3901-4bc2-8ac5-be19787baf09",
   "metadata": {},
   "outputs": [
    {
     "name": "stdin",
     "output_type": "stream",
     "text": [
      "Entre com o número 1:  3\n",
      "Entre com o número 2:  4\n",
      "Entre com a operação: [+, -, *, /]:  +\n"
     ]
    },
    {
     "name": "stdout",
     "output_type": "stream",
     "text": [
      "3.0 + 4.0 = 7.0\n"
     ]
    }
   ],
   "source": [
    "# Entrada\n",
    "numero1 = float(input(\"Entre com o número 1: \"))\n",
    "numero2 = float(input(\"Entre com o número 2: \"))\n",
    "operacao = input(\"Entre com a operação: [+, -, *, /]: \")\n",
    "\n",
    "# Processamento e resultado\n",
    "operacoes = {'+', '-', '*', '/'}\n",
    "if operacao in operacoes:\n",
    "    if operacao == '+':\n",
    "        resultado = numero1 + numero2\n",
    "    elif operacao == '-':\n",
    "        resultado = numero1 - numero2\n",
    "    elif operacao == '*':\n",
    "        resultado = numero1 * numero2\n",
    "    else :\n",
    "        if numero2 == 0:\n",
    "            resultado = 'Divisão por zero'\n",
    "        else:\n",
    "            resultado = numero1 / numero2\n",
    "\n",
    "    print(f'{numero1} {operacao} {numero2} = {resultado}')\n",
    "else:\n",
    "    print(f'{operacao} é uma operação inválida')"
   ]
  },
  {
   "cell_type": "markdown",
   "id": "c763d55b-b895-44f9-a93a-e62f77daa47a",
   "metadata": {},
   "source": [
    "## Questão 2\n",
    "\n",
    "Faça um programa na linguagem Python para ler uma temperatura dada na escala Fahrenheit e exibir o equivalente em Celsius."
   ]
  },
  {
   "cell_type": "code",
   "execution_count": 110,
   "id": "3b15e13f-4726-419d-a589-3d0b9abb2b2b",
   "metadata": {},
   "outputs": [],
   "source": [
    "def fahr2celsius(f):\n",
    "    \"\"\"Converte temperatura fahrenheit para celsius\"\"\"\n",
    "    return (5*(f - 32))/9"
   ]
  },
  {
   "cell_type": "code",
   "execution_count": 111,
   "id": "3f5a4d7a-0e95-411f-8092-472615630380",
   "metadata": {},
   "outputs": [
    {
     "name": "stdin",
     "output_type": "stream",
     "text": [
      "Entre com a temperatura na escala Fahrenheit:  100\n"
     ]
    },
    {
     "name": "stdout",
     "output_type": "stream",
     "text": [
      "100.0 em graus celsius é: 37.7778\n"
     ]
    }
   ],
   "source": [
    "# Entradao\n",
    "temperatura_fahrenheit = float(input('Entre com a temperatura na escala Fahrenheit: '))\n",
    "\n",
    "# Processamento\n",
    "temperatura_celsius = fahr2celsius(temperatura_fahrenheit)\n",
    "\n",
    "# Saída\n",
    "print(f'{temperatura_fahrenheit} em graus celsius é: {temperatura_celsius:0.4f}')"
   ]
  },
  {
   "cell_type": "markdown",
   "id": "a06185f9-1667-4b62-b4e0-f3d6c6142fa2",
   "metadata": {},
   "source": [
    "## Questão 3\n",
    "Implemente um programa na linguagem Python que leia do usuário um valor inteiro representando o tempo em segundos, converta e imprima na tela esse tempo em horas, minutos e segundos. Por exemplo, $7564 s$ possuem $2h\\,6min\\,4s$"
   ]
  },
  {
   "cell_type": "code",
   "execution_count": 112,
   "id": "1db1e7ec-19e8-402f-a067-ac64a0d90ee1",
   "metadata": {},
   "outputs": [
    {
     "name": "stdin",
     "output_type": "stream",
     "text": [
      "Entre com o tempo em segundos:  7564\n"
     ]
    },
    {
     "name": "stdout",
     "output_type": "stream",
     "text": [
      "7564s = 2h 6min 4s\n"
     ]
    }
   ],
   "source": [
    "tempo_segundos = int(input(\"Entre com o tempo em segundos: \"))\n",
    "\n",
    "tempo_horas = tempo_segundos // 3600\n",
    "segundo_restantes = tempo_segundos % 3600\n",
    "tempo_minutos = segundo_restantes // 60\n",
    "segundo_restantes = segundo_restantes % 60\n",
    "\n",
    "print(f'{tempo_segundos}s = {tempo_horas}h {tempo_minutos}min {segundo_restantes}s')"
   ]
  },
  {
   "cell_type": "markdown",
   "id": "5cd9ba7d-b4e8-43d7-91b0-e3c12e277811",
   "metadata": {},
   "source": [
    "## Questão 4\n",
    "Crie um programa na linguagem Python que leia do usuário um número inteiro `n`, correspondente a um valor em reais. Calcule a quantidade mínima de notas que um banco deve fornecer para atingir o valor. Notas disponíveis: 100.00 reais; 50,00 reais; 10,00 reais; 5,00 reais e 1,00 real."
   ]
  },
  {
   "cell_type": "code",
   "execution_count": 163,
   "id": "ae43fc38-a38a-4cac-b0c1-5fcea9a3530d",
   "metadata": {},
   "outputs": [
    {
     "name": "stdin",
     "output_type": "stream",
     "text": [
      "Entre com o valor em reais 276\n"
     ]
    },
    {
     "name": "stdout",
     "output_type": "stream",
     "text": [
      "Notas de 100:\t2\n",
      "Notas de 50:\t1\n",
      "Notas de 10:\t2\n",
      "Notas de 5:\t1\n",
      "Notas de 1:\t1\n"
     ]
    }
   ],
   "source": [
    "n = int(input(\"Entre com o valor em reais\")) \n",
    "\n",
    "caixa = {100:0, 50:0, 10:0, 5:0, 1:0}\n",
    "\n",
    "for k, v in caixa.items():\n",
    "    caixa[k] = n // k\n",
    "    n = n - caixa[k] * k\n",
    "\n",
    "for k, v in caixa.items():\n",
    "    print(f'Notas de {k}:\\t{v}')"
   ]
  },
  {
   "cell_type": "markdown",
   "id": "c96ab085-ff21-48ce-889e-38350d68d62f",
   "metadata": {},
   "source": [
    "## Questão 5\n",
    "O dono de uma loja deseja informatizá-la e quer que você desenvolva um programa na linguagem Python que leia os preços dos produtos comprados por um cliente até que seja informado o valor zero. No final, seu programa deve informar o total da compra e perguntar a forma de pagamento. As opções da forma de pagamento são: 1) À vista; 2) No cartão de crédito. Se a opção escolhida for à vista, então o programa informa o valor da compra com um desconto de 15%. Caso a compra seja no cartão de crédito, o programa informa o valor da compra dividido em 4 vezes."
   ]
  },
  {
   "cell_type": "code",
   "execution_count": 174,
   "id": "8432a32d-842f-43b9-b8c5-1c834f0e3208",
   "metadata": {},
   "outputs": [
    {
     "name": "stdin",
     "output_type": "stream",
     "text": [
      "Entre com o valor do produto [0 para terminar]: 300\n",
      "Entre com o valor do produto [0 para terminar]: 0\n"
     ]
    },
    {
     "name": "stdout",
     "output_type": "stream",
     "text": [
      "Total da compras: 300.00\n",
      "\n",
      "Entre com a opçao de pagamento:\n",
      "1) À vista\n",
      "\n",
      "2) Em 4 vezes\n",
      "\n"
     ]
    },
    {
     "name": "stdin",
     "output_type": "stream",
     "text": [
      " 3\n"
     ]
    },
    {
     "name": "stdout",
     "output_type": "stream",
     "text": [
      "Opção inesistente\n",
      "\n",
      "Entre com a opçao de pagamento:\n",
      "1) À vista\n",
      "\n",
      "2) Em 4 vezes\n",
      "\n"
     ]
    },
    {
     "name": "stdin",
     "output_type": "stream",
     "text": [
      " 5\n"
     ]
    },
    {
     "name": "stdout",
     "output_type": "stream",
     "text": [
      "Opção inesistente\n",
      "\n",
      "Entre com a opçao de pagamento:\n",
      "1) À vista\n",
      "\n",
      "2) Em 4 vezes\n",
      "\n"
     ]
    },
    {
     "name": "stdin",
     "output_type": "stream",
     "text": [
      " 1\n"
     ]
    },
    {
     "name": "stdout",
     "output_type": "stream",
     "text": [
      "Valor da compra: 255.0\n"
     ]
    }
   ],
   "source": [
    "total = 0\n",
    "item = float(input(\"Entre com o valor do produto [0 para terminar]:\"))\n",
    "\n",
    "while item != 0:\n",
    "    total = total + item\n",
    "    item = float(input(\"Entre com o valor do produto [0 para terminar]:\"))\n",
    "    \n",
    "print(f\"Total da compras: {total:0.2f}\")\n",
    "\n",
    "\n",
    "opcao = '3'\n",
    "while opcao not in {'1', '2'}:\n",
    "    print('\\nEntre com a opçao de pagamento:')\n",
    "    print('1) À vista')\n",
    "    print('2) Em 4 vezes')\n",
    "\n",
    "    opcao = input()\n",
    "    if opcao == '1':\n",
    "        print(f'Valor da compra: {total - total*0.15}')\n",
    "    elif opcao == '2':\n",
    "        print(f'Compra divivida em 4 parcelas de: {total / 4:0.2f}')\n",
    "    else:\n",
    "        print(\"Opção inexistente\")"
   ]
  },
  {
   "cell_type": "markdown",
   "id": "7fe309b6-403a-4a38-afaa-e1755cd44470",
   "metadata": {},
   "source": [
    "## Questão 6\n",
    "Implemente um programa na linguagem Python que leia do usuário um número inteiro positivo $n$ e imprima na tela $n\\text{-ésimo}$ termo da sequência a seguir:\n",
    "\n",
    "- $1 = (1)\\, \\text{para}\\, n = 1$\n",
    "- $3 = (1 + 2)\\, \\text{para}\\, n = 2$\n",
    "- $6 = (1 + 2 + 3)\\, \\text{para}\\, n = 3$\n",
    "- $10 = (1 + 2 + 3 + 4)\\, \\text{para}\\, n = 4$\n",
    "\n",
    "- $n\\text{-ésnimo termo} = (1 + 2 + 3 + 4 + ... + n)\\, \\text{para um } n\\, \\text{qualquer}$"
   ]
  },
  {
   "cell_type": "code",
   "execution_count": 189,
   "id": "f69b0ae1-4378-4bf9-bcce-a58561bc7e8d",
   "metadata": {},
   "outputs": [
    {
     "name": "stdin",
     "output_type": "stream",
     "text": [
      "Entre com um número inteiro:  3\n"
     ]
    },
    {
     "name": "stdout",
     "output_type": "stream",
     "text": [
      "A soma da série é: 6\n"
     ]
    }
   ],
   "source": [
    "n = int(input(\"Entre com um número inteiro: \"))\n",
    "\n",
    "def soma_serie(n):\n",
    "    \"\"\"Retorna a soma do n-ésimo termo da série (1 + 2 + ... + n)\"\"\"\n",
    "    soma = 0 \n",
    "    for i in range(1, n+1):\n",
    "        soma += i\n",
    "    return soma\n",
    "\n",
    "print(f'A soma da série é: {soma_serie(n)}')"
   ]
  },
  {
   "cell_type": "markdown",
   "id": "aff0acc6-12a7-41e5-a8da-e414529a3623",
   "metadata": {},
   "source": [
    "# Questão 7\n",
    "Desenvolva um programa na linguagem Python que mostre os $n$ termos da série a seguir. O valor de $n$ deve ser solicitado ao usuário e, ao final da execução seu programa, deve exibir o valor final de $S$.\n",
    "\n",
    "$$S = \\frac{1}{1} + \\frac{2}{3} + \\frac{3}{5} + \\dots + \\frac{n}{2n-1}$$"
   ]
  },
  {
   "cell_type": "code",
   "execution_count": 197,
   "id": "cc540bf4-8b03-448d-bb45-e07715960222",
   "metadata": {},
   "outputs": [
    {
     "name": "stdin",
     "output_type": "stream",
     "text": [
      "Entre com um número inteiro:  3\n"
     ]
    },
    {
     "name": "stdout",
     "output_type": "stream",
     "text": [
      "A soma da série é: 2.2666666666666666\n"
     ]
    }
   ],
   "source": [
    "n = int(input(\"Entre com um número inteiro: \"))\n",
    "\n",
    "soma = 0\n",
    "for i in range(1, n + 1):\n",
    "    soma += i/(2*i-1)\n",
    "\n",
    "print(f'A soma da série é: {soma}')"
   ]
  }
 ],
 "metadata": {
  "kernelspec": {
   "display_name": "Python 3 (ipykernel)",
   "language": "python",
   "name": "python3"
  },
  "language_info": {
   "codemirror_mode": {
    "name": "ipython",
    "version": 3
   },
   "file_extension": ".py",
   "mimetype": "text/x-python",
   "name": "python",
   "nbconvert_exporter": "python",
   "pygments_lexer": "ipython3",
   "version": "3.8.10"
  }
 },
 "nbformat": 4,
 "nbformat_minor": 5
}
