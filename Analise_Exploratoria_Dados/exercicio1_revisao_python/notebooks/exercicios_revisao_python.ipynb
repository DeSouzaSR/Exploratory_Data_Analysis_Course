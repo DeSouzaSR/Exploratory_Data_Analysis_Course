{
 "cells": [
  {
   "cell_type": "markdown",
   "id": "09d9ace6-69a1-4fa5-94e8-eff19c640ba0",
   "metadata": {},
   "source": [
    "# Exercícios de revisão de Python "
   ]
  },
  {
   "cell_type": "markdown",
   "id": "f07d1e8b-0354-49c1-bcbf-332a5c4aaf96",
   "metadata": {},
   "source": [
    "## Questão 1\n",
    "\n",
    "Crie um script que solicite ao usuário dois números e qual operação ele deseja\n",
    "realizar `+, -, *, /`. Seu programa deve exibir o resultado da operação desejada pelo\n",
    "usuário com os dois números digitados."
   ]
  },
  {
   "cell_type": "code",
   "execution_count": 2,
   "id": "dfbfc0ec-49f7-4791-9c9d-d9b896cfb4af",
   "metadata": {},
   "outputs": [
    {
     "name": "stdin",
     "output_type": "stream",
     "text": [
      "Entre com o número 1:  5.6\n",
      "Entre com o número 2:  6.7\n",
      "Entre com a operação: [+, -, *, /]:  -\n"
     ]
    },
    {
     "name": "stdout",
     "output_type": "stream",
     "text": [
      "5.6 - 6.7 = -1.1000000000000005\n"
     ]
    }
   ],
   "source": [
    "# Entrada\n",
    "numero1 = float(input(\"Entre com o número 1: \"))\n",
    "numero2 = float(input(\"Entre com o número 2: \"))\n",
    "operacao = input(\"Entre com a operação: [+, -, *, /]: \")\n",
    "\n",
    "# Processamento e resultado\n",
    "operacoes = {'+', '-', '*', '/'}\n",
    "if operacao in operacoes:\n",
    "    if operacao == '+':\n",
    "        resultado = numero1 + numero2\n",
    "    elif operacao == '-':\n",
    "        resultado = numero1 - numero2\n",
    "    elif operacao == '*':\n",
    "        resultado = numero1 * numero2\n",
    "    else :\n",
    "        if numero2 == 0:\n",
    "            resultado = 'Divisão por zero'\n",
    "        else:\n",
    "            resultado = numero1 / numero2\n",
    "\n",
    "    print(f'{numero1} {operacao} {numero2} = {resultado}')\n",
    "else:\n",
    "    print(f'{operacao} é uma operação inválida')"
   ]
  },
  {
   "cell_type": "markdown",
   "id": "95bbd76d-69ba-426f-9b7b-b252931429cd",
   "metadata": {},
   "source": [
    "## Questão 2\n",
    "\n",
    "Faça um programa na linguagem Python para ler uma temperatura dada na escala Fahrenheit e exibir o equivalente em Celsius."
   ]
  },
  {
   "cell_type": "code",
   "execution_count": 3,
   "id": "dd43e3c4-9700-4f09-bb66-ba4572ac657c",
   "metadata": {},
   "outputs": [],
   "source": [
    "def fahr2celsius(f):\n",
    "    \"\"\"Converte temperatura fahrenheit para celsius\"\"\"\n",
    "    return (5*(f - 32))/9"
   ]
  },
  {
   "cell_type": "code",
   "execution_count": 4,
   "id": "e9952795-631b-40af-b9ce-4a6a4d8e3f26",
   "metadata": {},
   "outputs": [
    {
     "name": "stdin",
     "output_type": "stream",
     "text": [
      "Entre com a temperatura na escala Fahrenheit:  100\n"
     ]
    },
    {
     "name": "stdout",
     "output_type": "stream",
     "text": [
      "100.0 em graus celsius é: 37.7778\n"
     ]
    }
   ],
   "source": [
    "# Entradao\n",
    "temperatura_fahrenheit = float(input('Entre com a temperatura na escala Fahrenheit: '))\n",
    "\n",
    "# Processamento\n",
    "temperatura_celsius = fahr2celsius(temperatura_fahrenheit)\n",
    "\n",
    "# Saída\n",
    "print(f'{temperatura_fahrenheit} em graus celsius é: {temperatura_celsius:0.4f}')"
   ]
  }
 ],
 "metadata": {
  "kernelspec": {
   "display_name": "Python 3 (ipykernel)",
   "language": "python",
   "name": "python3"
  },
  "language_info": {
   "codemirror_mode": {
    "name": "ipython",
    "version": 3
   },
   "file_extension": ".py",
   "mimetype": "text/x-python",
   "name": "python",
   "nbconvert_exporter": "python",
   "pygments_lexer": "ipython3",
   "version": "3.8.10"
  }
 },
 "nbformat": 4,
 "nbformat_minor": 5
}
