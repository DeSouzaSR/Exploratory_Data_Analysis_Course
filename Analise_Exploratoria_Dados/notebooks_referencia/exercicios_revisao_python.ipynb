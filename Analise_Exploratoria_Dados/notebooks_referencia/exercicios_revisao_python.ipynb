{
 "cells": [
  {
   "cell_type": "markdown",
   "id": "98c7cb97-4de2-4b2f-8968-7fb50ab33490",
   "metadata": {},
   "source": [
    "# Exercícios de revisão de Python"
   ]
  },
  {
   "cell_type": "markdown",
   "id": "92e02137-b468-46b4-ad1e-cde3751dc96a",
   "metadata": {},
   "source": [
    "## Questão 1\n",
    "\n",
    "Crie um script que solicite ao usuário dois números e qual operação ele deseja\n",
    "realizar (+, -, *, /). Seu programa deve exibir o resultado da operação desejada pelo\n",
    "usuário com os dois números digitados."
   ]
  },
  {
   "cell_type": "code",
   "execution_count": 1,
   "id": "688db941-676a-470a-b3bf-a501997d0c97",
   "metadata": {},
   "outputs": [
    {
     "name": "stdin",
     "output_type": "stream",
     "text": [
      "Entre com o número 1:  2\n",
      "Entre com o número 2:  3\n",
      "Entre com a operação: [+, -, *, /]:  -\n"
     ]
    },
    {
     "name": "stdout",
     "output_type": "stream",
     "text": [
      "2.0 - 3.0 = -1.0\n"
     ]
    }
   ],
   "source": [
    "# Entrada\n",
    "numero1 = float(input(\"Entre com o número 1: \"))\n",
    "numero2 = float(input(\"Entre com o número 2: \"))\n",
    "operacao = input(\"Entre com a operação: [+, -, *, /]: \")\n",
    "\n",
    "# Processamento e resultado\n",
    "operacoes = {'+', '-', '*', '/'}\n",
    "if operacao in operacoes:\n",
    "    if operacao == '+':\n",
    "        resultado = numero1 + numero2\n",
    "    elif operacao == '-':\n",
    "        resultado = numero1 - numero2\n",
    "    elif operacao == '*':\n",
    "        resultado = numero1 * numero2\n",
    "    else :\n",
    "        if numero2 == 0:\n",
    "            resultado = 'Divisão por zero'\n",
    "        else:\n",
    "            resultado = numero1 / numero2\n",
    "\n",
    "    print(f'{numero1} {operacao} {numero2} = {resultado}')\n",
    "else:\n",
    "    print(f'{operacao} é uma operação inválida')"
   ]
  },
  {
   "cell_type": "markdown",
   "id": "4df6773d-9201-407f-9302-c375fff9de7b",
   "metadata": {},
   "source": [
    "## Questão 2\n",
    "\n",
    "Faça um programa na linguagem Python para ler uma temperatura dada na\n",
    "escala Fahrenheit e exibir o equivalente em Celsius."
   ]
  },
  {
   "cell_type": "code",
   "execution_count": 5,
   "id": "78f3245a-32a7-494b-8d2a-ef5152e7d7fd",
   "metadata": {},
   "outputs": [
    {
     "name": "stdin",
     "output_type": "stream",
     "text": [
      "Entre com a temperatura na escala Fahrenheit:  100\n"
     ]
    },
    {
     "name": "stdout",
     "output_type": "stream",
     "text": [
      "100.0 graus celsius é 37.7778 graus fahrenheit\n"
     ]
    }
   ],
   "source": [
    "def fahr2celsius(f):\n",
    "    \"\"\"Converte temperatura fahrenheit para celsius\"\"\"\n",
    "    return (5*(f - 32))/9\n",
    "\n",
    "\n",
    "# Entradao\n",
    "temperatura_fahrenheit = float(input('Entre com a temperatura na escala Fahrenheit: '))\n",
    "\n",
    "# Processamento\n",
    "temperatura_celsius = fahr2celsius(temperatura_fahrenheit)\n",
    "\n",
    "# Saída\n",
    "print(f'{temperatura_fahrenheit} graus celsius é {temperatura_celsius:0.4f} graus fahrenheit')"
   ]
  },
  {
   "cell_type": "markdown",
   "id": "2a943f57-6746-4f2e-9e2b-639f0623b97d",
   "metadata": {},
   "source": [
    "## Questão 3\n",
    "\n",
    "Implemente um programa na linguagem Python que leia do usuário um valor inteiro representando o tempo em segundos, converta e imprima na tela esse tempo em horas, minutos e segundos. Por exemplo, $7564 s$ possuem $2h6min4s$."
   ]
  },
  {
   "cell_type": "code",
   "execution_count": 18,
   "id": "397f3fff-360c-4e92-b205-39ccdea65240",
   "metadata": {},
   "outputs": [],
   "source": [
    "def converter_tempo(segundos):\n",
    "    horas = segundos // 3600\n",
    "    minutos = (segundos % 3600) // 60\n",
    "    segundos_restantes = segundos % 60\n",
    "    return horas, minutos, segundos_restantes"
   ]
  },
  {
   "cell_type": "code",
   "execution_count": 19,
   "id": "2c201a05-096c-4b72-bb77-4a8c4373cc19",
   "metadata": {},
   "outputs": [
    {
     "name": "stdin",
     "output_type": "stream",
     "text": [
      "Digite o tempo em segundos:  7564\n"
     ]
    },
    {
     "name": "stdout",
     "output_type": "stream",
     "text": [
      "7564s equivalem a 2h6min4s\n"
     ]
    }
   ],
   "source": [
    "\n",
    "# Leitura do valor em segundos\n",
    "tempo_em_segundos = int(input(\"Digite o tempo em segundos: \"))\n",
    "\n",
    "# Conversão\n",
    "horas, minutos, segundos = converter_tempo(tempo_em_segundos)\n",
    "\n",
    "# Exibição do resultado\n",
    "print(f\"{tempo_em_segundos}s equivalem a {horas}h{minutos}min{segundos}s\")"
   ]
  },
  {
   "cell_type": "markdown",
   "id": "5a86bdcc-00f6-4df5-a8fe-60e49cab69ab",
   "metadata": {},
   "source": [
    "## Questão 4\n",
    "\n",
    "Crie um programa na linguagem Python que leia do usuário um número inteiro n, correspondente a um valor em reais. Calcule a quantidade mínima de notas que um banco deve fornecer para atingir o valor. Notas disponíveis: 100,00 reais; 50,00 reais; 10,00 reais; 5,00 reais e 1,00 real."
   ]
  },
  {
   "cell_type": "code",
   "execution_count": 20,
   "id": "75f8fb2c-4112-4367-b8c6-728b13d41418",
   "metadata": {},
   "outputs": [],
   "source": [
    "n = 155"
   ]
  },
  {
   "cell_type": "code",
   "execution_count": 24,
   "id": "224ac442-20e1-4147-9d08-a06fd7db3d05",
   "metadata": {},
   "outputs": [
    {
     "data": {
      "text/plain": [
       "55"
      ]
     },
     "execution_count": 24,
     "metadata": {},
     "output_type": "execute_result"
    }
   ],
   "source": [
    "nota_100 = n // 100\n",
    "valor_restante = n - nota_100 * 100\n",
    "notas_50 = valor_restante // 50\n",
    "valor_restante = valor_restante - notas_50 * 50\n",
    "notas_10 = valor_restante // 10\n",
    "valor_restante = valor_restante - notas_10 * 10\n",
    "notas_5 = valor_restante // 5\n",
    "valor_restante = valor_restante - notas_5 * \n"
   ]
  },
  {
   "cell_type": "code",
   "execution_count": 29,
   "id": "b9d67410-1073-4f1e-8094-c8fd3f989074",
   "metadata": {},
   "outputs": [
    {
     "data": {
      "text/plain": [
       "55"
      ]
     },
     "execution_count": 29,
     "metadata": {},
     "output_type": "execute_result"
    }
   ],
   "source": [
    "nota_100 = n // 100\n",
    "valor_restante = n - nota_100 * 100\n",
    "nota_50 = valor_restante // 50\n",
    "valor_restante = valor_restante - "
   ]
  },
  {
   "cell_type": "code",
   "execution_count": null,
   "id": "a60ef797-f5d7-430e-8504-957707779357",
   "metadata": {},
   "outputs": [],
   "source": []
  }
 ],
 "metadata": {
  "kernelspec": {
   "display_name": "Python 3 (ipykernel)",
   "language": "python",
   "name": "python3"
  },
  "language_info": {
   "codemirror_mode": {
    "name": "ipython",
    "version": 3
   },
   "file_extension": ".py",
   "mimetype": "text/x-python",
   "name": "python",
   "nbconvert_exporter": "python",
   "pygments_lexer": "ipython3",
   "version": "3.8.10"
  }
 },
 "nbformat": 4,
 "nbformat_minor": 5
}
