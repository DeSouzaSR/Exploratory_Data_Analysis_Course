{
 "cells": [
  {
   "cell_type": "code",
   "execution_count": 5,
   "metadata": {
    "id": "eVbvtveYaY2Q"
   },
   "outputs": [
    {
     "name": "stdout",
     "output_type": "stream",
     "text": [
      "Requirement already satisfied: spacy in /home/sandro/.local/lib/python3.8/site-packages (3.7.6)\n",
      "Requirement already satisfied: requests<3.0.0,>=2.13.0 in /home/sandro/.local/lib/python3.8/site-packages (from spacy) (2.32.3)\n",
      "Requirement already satisfied: cymem<2.1.0,>=2.0.2 in /home/sandro/.local/lib/python3.8/site-packages (from spacy) (2.0.8)\n",
      "Requirement already satisfied: pydantic!=1.8,!=1.8.1,<3.0.0,>=1.7.4 in /home/sandro/.local/lib/python3.8/site-packages (from spacy) (2.9.1)\n",
      "Requirement already satisfied: typer<1.0.0,>=0.3.0 in /home/sandro/.local/lib/python3.8/site-packages (from spacy) (0.12.5)\n",
      "Requirement already satisfied: catalogue<2.1.0,>=2.0.6 in /home/sandro/.local/lib/python3.8/site-packages (from spacy) (2.0.10)\n",
      "Requirement already satisfied: srsly<3.0.0,>=2.4.3 in /home/sandro/.local/lib/python3.8/site-packages (from spacy) (2.4.8)\n",
      "Requirement already satisfied: tqdm<5.0.0,>=4.38.0 in /home/sandro/.local/lib/python3.8/site-packages (from spacy) (4.66.5)\n",
      "Requirement already satisfied: wasabi<1.2.0,>=0.9.1 in /home/sandro/.local/lib/python3.8/site-packages (from spacy) (1.1.3)\n",
      "Requirement already satisfied: spacy-legacy<3.1.0,>=3.0.11 in /home/sandro/.local/lib/python3.8/site-packages (from spacy) (3.0.12)\n",
      "Requirement already satisfied: langcodes<4.0.0,>=3.2.0 in /home/sandro/.local/lib/python3.8/site-packages (from spacy) (3.4.0)\n",
      "Requirement already satisfied: murmurhash<1.1.0,>=0.28.0 in /home/sandro/.local/lib/python3.8/site-packages (from spacy) (1.0.10)\n",
      "Requirement already satisfied: thinc<8.3.0,>=8.2.2 in /home/sandro/.local/lib/python3.8/site-packages (from spacy) (8.2.5)\n",
      "Requirement already satisfied: jinja2 in /home/sandro/.local/lib/python3.8/site-packages (from spacy) (3.1.4)\n",
      "Requirement already satisfied: weasel<0.5.0,>=0.1.0 in /home/sandro/.local/lib/python3.8/site-packages (from spacy) (0.4.1)\n",
      "Requirement already satisfied: preshed<3.1.0,>=3.0.2 in /home/sandro/.local/lib/python3.8/site-packages (from spacy) (3.0.9)\n",
      "Requirement already satisfied: packaging>=20.0 in /home/sandro/.local/lib/python3.8/site-packages (from spacy) (24.1)\n",
      "Requirement already satisfied: numpy>=1.15.0; python_version < \"3.9\" in /home/sandro/.local/lib/python3.8/site-packages (from spacy) (1.24.4)\n",
      "Requirement already satisfied: spacy-loggers<2.0.0,>=1.0.0 in /home/sandro/.local/lib/python3.8/site-packages (from spacy) (1.0.5)\n",
      "Requirement already satisfied: setuptools in /usr/lib/python3/dist-packages (from spacy) (45.2.0)\n",
      "Requirement already satisfied: charset-normalizer<4,>=2 in /home/sandro/.local/lib/python3.8/site-packages (from requests<3.0.0,>=2.13.0->spacy) (3.3.2)\n",
      "Requirement already satisfied: urllib3<3,>=1.21.1 in /usr/lib/python3/dist-packages (from requests<3.0.0,>=2.13.0->spacy) (1.25.8)\n",
      "Requirement already satisfied: idna<4,>=2.5 in /usr/lib/python3/dist-packages (from requests<3.0.0,>=2.13.0->spacy) (2.8)\n",
      "Requirement already satisfied: certifi>=2017.4.17 in /usr/lib/python3/dist-packages (from requests<3.0.0,>=2.13.0->spacy) (2019.11.28)\n",
      "Requirement already satisfied: typing-extensions>=4.6.1; python_version < \"3.13\" in /home/sandro/.local/lib/python3.8/site-packages (from pydantic!=1.8,!=1.8.1,<3.0.0,>=1.7.4->spacy) (4.12.2)\n",
      "Requirement already satisfied: pydantic-core==2.23.3 in /home/sandro/.local/lib/python3.8/site-packages (from pydantic!=1.8,!=1.8.1,<3.0.0,>=1.7.4->spacy) (2.23.3)\n",
      "Requirement already satisfied: annotated-types>=0.6.0 in /home/sandro/.local/lib/python3.8/site-packages (from pydantic!=1.8,!=1.8.1,<3.0.0,>=1.7.4->spacy) (0.7.0)\n",
      "Requirement already satisfied: rich>=10.11.0 in /home/sandro/.local/lib/python3.8/site-packages (from typer<1.0.0,>=0.3.0->spacy) (13.8.1)\n",
      "Requirement already satisfied: shellingham>=1.3.0 in /home/sandro/.local/lib/python3.8/site-packages (from typer<1.0.0,>=0.3.0->spacy) (1.5.4)\n",
      "Requirement already satisfied: click>=8.0.0 in /home/sandro/.local/lib/python3.8/site-packages (from typer<1.0.0,>=0.3.0->spacy) (8.1.7)\n",
      "Requirement already satisfied: language-data>=1.2 in /home/sandro/.local/lib/python3.8/site-packages (from langcodes<4.0.0,>=3.2.0->spacy) (1.2.0)\n",
      "Requirement already satisfied: confection<1.0.0,>=0.0.1 in /home/sandro/.local/lib/python3.8/site-packages (from thinc<8.3.0,>=8.2.2->spacy) (0.1.5)\n",
      "Requirement already satisfied: blis<0.8.0,>=0.7.8 in /home/sandro/.local/lib/python3.8/site-packages (from thinc<8.3.0,>=8.2.2->spacy) (0.7.11)\n",
      "Requirement already satisfied: MarkupSafe>=2.0 in /home/sandro/.local/lib/python3.8/site-packages (from jinja2->spacy) (2.1.5)\n",
      "Requirement already satisfied: cloudpathlib<1.0.0,>=0.7.0 in /home/sandro/.local/lib/python3.8/site-packages (from weasel<0.5.0,>=0.1.0->spacy) (0.19.0)\n",
      "Requirement already satisfied: smart-open<8.0.0,>=5.2.1 in /home/sandro/.local/lib/python3.8/site-packages (from weasel<0.5.0,>=0.1.0->spacy) (7.0.4)\n",
      "Requirement already satisfied: markdown-it-py>=2.2.0 in /home/sandro/.local/lib/python3.8/site-packages (from rich>=10.11.0->typer<1.0.0,>=0.3.0->spacy) (3.0.0)\n",
      "Requirement already satisfied: pygments<3.0.0,>=2.13.0 in /home/sandro/.local/lib/python3.8/site-packages (from rich>=10.11.0->typer<1.0.0,>=0.3.0->spacy) (2.18.0)\n",
      "Requirement already satisfied: marisa-trie>=0.7.7 in /home/sandro/.local/lib/python3.8/site-packages (from language-data>=1.2->langcodes<4.0.0,>=3.2.0->spacy) (1.2.0)\n",
      "Requirement already satisfied: wrapt in /home/sandro/.local/lib/python3.8/site-packages (from smart-open<8.0.0,>=5.2.1->weasel<0.5.0,>=0.1.0->spacy) (1.16.0)\n",
      "Requirement already satisfied: mdurl~=0.1 in /home/sandro/.local/lib/python3.8/site-packages (from markdown-it-py>=2.2.0->rich>=10.11.0->typer<1.0.0,>=0.3.0->spacy) (0.1.2)\n",
      "Collecting pt-core-news-sm==3.7.0\n",
      "  Downloading https://github.com/explosion/spacy-models/releases/download/pt_core_news_sm-3.7.0/pt_core_news_sm-3.7.0-py3-none-any.whl (13.0 MB)\n",
      "\u001b[K     |████████████████████████████████| 13.0 MB 6.7 MB/s eta 0:00:01\n",
      "\u001b[?25hRequirement already satisfied: spacy<3.8.0,>=3.7.0 in /home/sandro/.local/lib/python3.8/site-packages (from pt-core-news-sm==3.7.0) (3.7.6)\n",
      "Requirement already satisfied: wasabi<1.2.0,>=0.9.1 in /home/sandro/.local/lib/python3.8/site-packages (from spacy<3.8.0,>=3.7.0->pt-core-news-sm==3.7.0) (1.1.3)\n",
      "Requirement already satisfied: srsly<3.0.0,>=2.4.3 in /home/sandro/.local/lib/python3.8/site-packages (from spacy<3.8.0,>=3.7.0->pt-core-news-sm==3.7.0) (2.4.8)\n",
      "Requirement already satisfied: numpy>=1.15.0; python_version < \"3.9\" in /home/sandro/.local/lib/python3.8/site-packages (from spacy<3.8.0,>=3.7.0->pt-core-news-sm==3.7.0) (1.24.4)\n",
      "Requirement already satisfied: cymem<2.1.0,>=2.0.2 in /home/sandro/.local/lib/python3.8/site-packages (from spacy<3.8.0,>=3.7.0->pt-core-news-sm==3.7.0) (2.0.8)\n",
      "Requirement already satisfied: jinja2 in /home/sandro/.local/lib/python3.8/site-packages (from spacy<3.8.0,>=3.7.0->pt-core-news-sm==3.7.0) (3.1.4)\n",
      "Requirement already satisfied: requests<3.0.0,>=2.13.0 in /home/sandro/.local/lib/python3.8/site-packages (from spacy<3.8.0,>=3.7.0->pt-core-news-sm==3.7.0) (2.32.3)\n",
      "Requirement already satisfied: catalogue<2.1.0,>=2.0.6 in /home/sandro/.local/lib/python3.8/site-packages (from spacy<3.8.0,>=3.7.0->pt-core-news-sm==3.7.0) (2.0.10)\n",
      "Requirement already satisfied: murmurhash<1.1.0,>=0.28.0 in /home/sandro/.local/lib/python3.8/site-packages (from spacy<3.8.0,>=3.7.0->pt-core-news-sm==3.7.0) (1.0.10)\n",
      "Requirement already satisfied: typer<1.0.0,>=0.3.0 in /home/sandro/.local/lib/python3.8/site-packages (from spacy<3.8.0,>=3.7.0->pt-core-news-sm==3.7.0) (0.12.5)\n",
      "Requirement already satisfied: packaging>=20.0 in /home/sandro/.local/lib/python3.8/site-packages (from spacy<3.8.0,>=3.7.0->pt-core-news-sm==3.7.0) (24.1)\n",
      "Requirement already satisfied: setuptools in /usr/lib/python3/dist-packages (from spacy<3.8.0,>=3.7.0->pt-core-news-sm==3.7.0) (45.2.0)\n",
      "Requirement already satisfied: preshed<3.1.0,>=3.0.2 in /home/sandro/.local/lib/python3.8/site-packages (from spacy<3.8.0,>=3.7.0->pt-core-news-sm==3.7.0) (3.0.9)\n",
      "Requirement already satisfied: weasel<0.5.0,>=0.1.0 in /home/sandro/.local/lib/python3.8/site-packages (from spacy<3.8.0,>=3.7.0->pt-core-news-sm==3.7.0) (0.4.1)\n",
      "Requirement already satisfied: thinc<8.3.0,>=8.2.2 in /home/sandro/.local/lib/python3.8/site-packages (from spacy<3.8.0,>=3.7.0->pt-core-news-sm==3.7.0) (8.2.5)\n",
      "Requirement already satisfied: tqdm<5.0.0,>=4.38.0 in /home/sandro/.local/lib/python3.8/site-packages (from spacy<3.8.0,>=3.7.0->pt-core-news-sm==3.7.0) (4.66.5)\n",
      "Requirement already satisfied: spacy-loggers<2.0.0,>=1.0.0 in /home/sandro/.local/lib/python3.8/site-packages (from spacy<3.8.0,>=3.7.0->pt-core-news-sm==3.7.0) (1.0.5)\n",
      "Requirement already satisfied: langcodes<4.0.0,>=3.2.0 in /home/sandro/.local/lib/python3.8/site-packages (from spacy<3.8.0,>=3.7.0->pt-core-news-sm==3.7.0) (3.4.0)\n",
      "Requirement already satisfied: spacy-legacy<3.1.0,>=3.0.11 in /home/sandro/.local/lib/python3.8/site-packages (from spacy<3.8.0,>=3.7.0->pt-core-news-sm==3.7.0) (3.0.12)\n",
      "Requirement already satisfied: pydantic!=1.8,!=1.8.1,<3.0.0,>=1.7.4 in /home/sandro/.local/lib/python3.8/site-packages (from spacy<3.8.0,>=3.7.0->pt-core-news-sm==3.7.0) (2.9.1)\n",
      "Requirement already satisfied: MarkupSafe>=2.0 in /home/sandro/.local/lib/python3.8/site-packages (from jinja2->spacy<3.8.0,>=3.7.0->pt-core-news-sm==3.7.0) (2.1.5)\n",
      "Requirement already satisfied: charset-normalizer<4,>=2 in /home/sandro/.local/lib/python3.8/site-packages (from requests<3.0.0,>=2.13.0->spacy<3.8.0,>=3.7.0->pt-core-news-sm==3.7.0) (3.3.2)\n",
      "Requirement already satisfied: idna<4,>=2.5 in /usr/lib/python3/dist-packages (from requests<3.0.0,>=2.13.0->spacy<3.8.0,>=3.7.0->pt-core-news-sm==3.7.0) (2.8)\n",
      "Requirement already satisfied: urllib3<3,>=1.21.1 in /usr/lib/python3/dist-packages (from requests<3.0.0,>=2.13.0->spacy<3.8.0,>=3.7.0->pt-core-news-sm==3.7.0) (1.25.8)\n",
      "Requirement already satisfied: certifi>=2017.4.17 in /usr/lib/python3/dist-packages (from requests<3.0.0,>=2.13.0->spacy<3.8.0,>=3.7.0->pt-core-news-sm==3.7.0) (2019.11.28)\n",
      "Requirement already satisfied: click>=8.0.0 in /home/sandro/.local/lib/python3.8/site-packages (from typer<1.0.0,>=0.3.0->spacy<3.8.0,>=3.7.0->pt-core-news-sm==3.7.0) (8.1.7)\n",
      "Requirement already satisfied: shellingham>=1.3.0 in /home/sandro/.local/lib/python3.8/site-packages (from typer<1.0.0,>=0.3.0->spacy<3.8.0,>=3.7.0->pt-core-news-sm==3.7.0) (1.5.4)\n",
      "Requirement already satisfied: rich>=10.11.0 in /home/sandro/.local/lib/python3.8/site-packages (from typer<1.0.0,>=0.3.0->spacy<3.8.0,>=3.7.0->pt-core-news-sm==3.7.0) (13.8.1)\n",
      "Requirement already satisfied: typing-extensions>=3.7.4.3 in /home/sandro/.local/lib/python3.8/site-packages (from typer<1.0.0,>=0.3.0->spacy<3.8.0,>=3.7.0->pt-core-news-sm==3.7.0) (4.12.2)\n",
      "Requirement already satisfied: confection<0.2.0,>=0.0.4 in /home/sandro/.local/lib/python3.8/site-packages (from weasel<0.5.0,>=0.1.0->spacy<3.8.0,>=3.7.0->pt-core-news-sm==3.7.0) (0.1.5)\n",
      "Requirement already satisfied: cloudpathlib<1.0.0,>=0.7.0 in /home/sandro/.local/lib/python3.8/site-packages (from weasel<0.5.0,>=0.1.0->spacy<3.8.0,>=3.7.0->pt-core-news-sm==3.7.0) (0.19.0)\n",
      "Requirement already satisfied: smart-open<8.0.0,>=5.2.1 in /home/sandro/.local/lib/python3.8/site-packages (from weasel<0.5.0,>=0.1.0->spacy<3.8.0,>=3.7.0->pt-core-news-sm==3.7.0) (7.0.4)\n",
      "Requirement already satisfied: blis<0.8.0,>=0.7.8 in /home/sandro/.local/lib/python3.8/site-packages (from thinc<8.3.0,>=8.2.2->spacy<3.8.0,>=3.7.0->pt-core-news-sm==3.7.0) (0.7.11)\n",
      "Requirement already satisfied: language-data>=1.2 in /home/sandro/.local/lib/python3.8/site-packages (from langcodes<4.0.0,>=3.2.0->spacy<3.8.0,>=3.7.0->pt-core-news-sm==3.7.0) (1.2.0)\n",
      "Requirement already satisfied: pydantic-core==2.23.3 in /home/sandro/.local/lib/python3.8/site-packages (from pydantic!=1.8,!=1.8.1,<3.0.0,>=1.7.4->spacy<3.8.0,>=3.7.0->pt-core-news-sm==3.7.0) (2.23.3)\n",
      "Requirement already satisfied: annotated-types>=0.6.0 in /home/sandro/.local/lib/python3.8/site-packages (from pydantic!=1.8,!=1.8.1,<3.0.0,>=1.7.4->spacy<3.8.0,>=3.7.0->pt-core-news-sm==3.7.0) (0.7.0)\n",
      "Requirement already satisfied: markdown-it-py>=2.2.0 in /home/sandro/.local/lib/python3.8/site-packages (from rich>=10.11.0->typer<1.0.0,>=0.3.0->spacy<3.8.0,>=3.7.0->pt-core-news-sm==3.7.0) (3.0.0)\n",
      "Requirement already satisfied: pygments<3.0.0,>=2.13.0 in /home/sandro/.local/lib/python3.8/site-packages (from rich>=10.11.0->typer<1.0.0,>=0.3.0->spacy<3.8.0,>=3.7.0->pt-core-news-sm==3.7.0) (2.18.0)\n",
      "Requirement already satisfied: wrapt in /home/sandro/.local/lib/python3.8/site-packages (from smart-open<8.0.0,>=5.2.1->weasel<0.5.0,>=0.1.0->spacy<3.8.0,>=3.7.0->pt-core-news-sm==3.7.0) (1.16.0)\n",
      "Requirement already satisfied: marisa-trie>=0.7.7 in /home/sandro/.local/lib/python3.8/site-packages (from language-data>=1.2->langcodes<4.0.0,>=3.2.0->spacy<3.8.0,>=3.7.0->pt-core-news-sm==3.7.0) (1.2.0)\n",
      "Requirement already satisfied: mdurl~=0.1 in /home/sandro/.local/lib/python3.8/site-packages (from markdown-it-py>=2.2.0->rich>=10.11.0->typer<1.0.0,>=0.3.0->spacy<3.8.0,>=3.7.0->pt-core-news-sm==3.7.0) (0.1.2)\n",
      "Installing collected packages: pt-core-news-sm\n",
      "Successfully installed pt-core-news-sm-3.7.0\n",
      "\u001b[38;5;2m✔ Download and installation successful\u001b[0m\n",
      "You can now load the package via spacy.load('pt_core_news_sm')\n"
     ]
    }
   ],
   "source": [
    "!pip install spacy\n",
    "!python -m spacy download pt_core_news_sm"
   ]
  },
  {
   "cell_type": "code",
   "execution_count": 6,
   "metadata": {
    "colab": {
     "base_uri": "https://localhost:8080/"
    },
    "id": "dxByOowVamdD",
    "outputId": "95d40ccf-d4da-4bf7-a42e-c2316d64a1e0"
   },
   "outputs": [
    {
     "name": "stdout",
     "output_type": "stream",
     "text": [
      "--2024-09-14 13:42:37--  https://raw.githubusercontent.com/lplnufpi/essay-br/main/extended-corpus/extended_essay-br.csv\n",
      "Resolving raw.githubusercontent.com (raw.githubusercontent.com)... 185.199.109.133, 185.199.110.133, 185.199.108.133, ...\n",
      "Connecting to raw.githubusercontent.com (raw.githubusercontent.com)|185.199.109.133|:443... connected.\n",
      "HTTP request sent, awaiting response... 200 OK\n",
      "Length: 13034921 (12M) [text/plain]\n",
      "Saving to: ‘extended_essay-br.csv’\n",
      "\n",
      "extended_essay-br.c 100%[===================>]  12,43M  9,92MB/s    in 1,3s    \n",
      "\n",
      "2024-09-14 13:42:39 (9,92 MB/s) - ‘extended_essay-br.csv’ saved [13034921/13034921]\n",
      "\n"
     ]
    }
   ],
   "source": [
    "!wget https://raw.githubusercontent.com/lplnufpi/essay-br/main/extended-corpus/extended_essay-br.csv"
   ]
  },
  {
   "cell_type": "code",
   "execution_count": 70,
   "metadata": {
    "colab": {
     "base_uri": "https://localhost:8080/"
    },
    "id": "2z6IpXc2ap8L",
    "outputId": "228000f8-4711-47a0-be60-0d138dde3bc5"
   },
   "outputs": [
    {
     "name": "stdout",
     "output_type": "stream",
     "text": [
      "Total de Redações: 6577\n"
     ]
    }
   ],
   "source": [
    "import pandas as pd\n",
    "\n",
    "from collections import Counter\n",
    "\n",
    "caminho_csv = '../datasets/extended_essay-br.csv'\n",
    "\n",
    "dataframe = pd.read_csv(caminho_csv)\n",
    "\n",
    "print(f'Total de Redações: {len(dataframe)}')"
   ]
  },
  {
   "cell_type": "code",
   "execution_count": 71,
   "metadata": {
    "colab": {
     "base_uri": "https://localhost:8080/"
    },
    "id": "3jgLixdkata7",
    "outputId": "5375647d-96a4-4ad0-ef8f-eec031b09248"
   },
   "outputs": [
    {
     "name": "stdout",
     "output_type": "stream",
     "text": [
      "\n",
      "Competência: c1\n",
      "\n",
      "  Distribuição de notas\n",
      "\n",
      "    Nota: 0 -- Frequência: 107\n",
      "    Nota: 40 -- Frequência: 24\n",
      "    Nota: 80 -- Frequência: 524\n",
      "    Nota: 120 -- Frequência: 3145\n",
      "    Nota: 160 -- Frequência: 2483\n",
      "    Nota: 200 -- Frequência: 294\n",
      "\n",
      "Competência: c2\n",
      "\n",
      "  Distribuição de notas\n",
      "\n",
      "    Nota: 0 -- Frequência: 123\n",
      "    Nota: 40 -- Frequência: 93\n",
      "    Nota: 80 -- Frequência: 918\n",
      "    Nota: 120 -- Frequência: 2446\n",
      "    Nota: 160 -- Frequência: 2425\n",
      "    Nota: 200 -- Frequência: 572\n",
      "\n",
      "Competência: c3\n",
      "\n",
      "  Distribuição de notas\n",
      "\n",
      "    Nota: 0 -- Frequência: 185\n",
      "    Nota: 40 -- Frequência: 164\n",
      "    Nota: 120 -- Frequência: 3054\n",
      "    Nota: 80 -- Frequência: 1606\n",
      "    Nota: 160 -- Frequência: 1377\n",
      "    Nota: 200 -- Frequência: 191\n",
      "\n",
      "Competência: c4\n",
      "\n",
      "  Distribuição de notas\n",
      "\n",
      "    Nota: 0 -- Frequência: 207\n",
      "    Nota: 40 -- Frequência: 65\n",
      "    Nota: 80 -- Frequência: 885\n",
      "    Nota: 120 -- Frequência: 2459\n",
      "    Nota: 160 -- Frequência: 1822\n",
      "    Nota: 200 -- Frequência: 1139\n",
      "\n",
      "Competência: c5\n",
      "\n",
      "  Distribuição de notas\n",
      "\n",
      "    Nota: 0 -- Frequência: 511\n",
      "    Nota: 40 -- Frequência: 297\n",
      "    Nota: 80 -- Frequência: 1335\n",
      "    Nota: 120 -- Frequência: 2288\n",
      "    Nota: 160 -- Frequência: 1535\n",
      "    Nota: 200 -- Frequência: 611\n"
     ]
    }
   ],
   "source": [
    "lista_competencias = ['c1', 'c2', 'c3', 'c4', 'c5']\n",
    "\n",
    "for competencia in lista_competencias:\n",
    "\n",
    "    notas = dataframe[competencia].values\n",
    "\n",
    "    distribuicao_notas = Counter(notas)\n",
    "\n",
    "    print(f'\\nCompetência: {competencia}\\n')\n",
    "    print(f'  Distribuição de notas\\n')\n",
    "\n",
    "    for nota, frequencia in distribuicao_notas.items():\n",
    "        print(f'    Nota: {nota} -- Frequência: {frequencia}')"
   ]
  },
  {
   "cell_type": "code",
   "execution_count": 72,
   "metadata": {
    "id": "FCIzisvWaw10"
   },
   "outputs": [],
   "source": [
    "import spacy\n",
    "\n",
    "nlp = spacy.load('pt_core_news_sm')"
   ]
  },
  {
   "cell_type": "code",
   "execution_count": 73,
   "metadata": {},
   "outputs": [],
   "source": [
    "texto = 'Maria viajou para Paraíba. Ela foi ontem à noite.'\n",
    "\n",
    "doc = nlp(texto)"
   ]
  },
  {
   "cell_type": "code",
   "execution_count": 74,
   "metadata": {},
   "outputs": [
    {
     "name": "stdout",
     "output_type": "stream",
     "text": [
      "\n",
      "Frase Maria viajou para Paraíba.\n",
      "  Maria -- PROPN -- Maria\n",
      "  viajou -- VERB -- viajar\n",
      "  para -- ADP -- para\n",
      "  Paraíba -- PROPN -- Paraíba\n",
      "  . -- PUNCT -- .\n",
      "\n",
      "Frase Ela foi ontem à noite.\n",
      "  Ela -- PRON -- ela\n",
      "  foi -- AUX -- ser\n",
      "  ontem -- ADV -- ontem\n",
      "  à -- ADP -- a o\n",
      "  noite -- NOUN -- noite\n",
      "  . -- PUNCT -- .\n"
     ]
    }
   ],
   "source": [
    "for frase in doc.sents:\n",
    "    print(f'\\nFrase {frase}')\n",
    "    for token in frase:\n",
    "        print(f'  {token} -- {token.pos_} -- {token.lemma_}')"
   ]
  },
  {
   "cell_type": "code",
   "execution_count": 75,
   "metadata": {},
   "outputs": [],
   "source": [
    "redacoes = dataframe['essay'].values"
   ]
  },
  {
   "cell_type": "code",
   "execution_count": 80,
   "metadata": {},
   "outputs": [
    {
     "name": "stdout",
     "output_type": "stream",
     "text": [
      "total de frases = 6\n",
      "media_frases = 8.80\n",
      "desvio_padrao_frases  = 64.57\n",
      "\n",
      "total de palavras = 204\n",
      "media_palavras = 192.30\n",
      "desvio_padrao_palavras = 64.57\n"
     ]
    }
   ],
   "source": [
    "import numpy as np\n",
    "\n",
    "redacoes = dataframe['essay'].values\n",
    "\n",
    "lista_frases = []\n",
    "lista_palavras = []\n",
    "\n",
    "for redacao in redacoes[:10]:\n",
    "    lista_paragrafos = redacao.strip('][').split(', ')\n",
    "    texto = ''.join(lista_paragrafos)\n",
    "\n",
    "    doc = nlp(texto)\n",
    "\n",
    "    total_frases = len([s for s in doc.sents])\n",
    "    total_palavras = len(doc)\n",
    "\n",
    "    lista_frases.append(total_frases)\n",
    "    lista_palavras.append(total_palavras)\n",
    "\n",
    "media_frases = np.mean(lista_frases)\n",
    "media_palavras = np.mean(lista_palavras)\n",
    "desvio_padrao_frases = np.std(lista_palavras)\n",
    "desvio_padrao_frases = np.std(lista_palavras)\n",
    "\n",
    "print(f'total de frases = {total_frases}')\n",
    "print(f\"media_frases = {media_frases:.2f}\")\n",
    "print(f\"desvio_padrao_frases  = {desvio_padrao_frases:.2f}\")\n",
    "print(f\"\\ntotal de palavras = {total_palavras}\")\n",
    "print(f\"media_palavras = {media_palavras:.2f}\")\n",
    "print(f\"desvio_padrao_palavras = {desvio_padrao_palavras:.2f}\")"
   ]
  },
  {
   "cell_type": "code",
   "execution_count": 77,
   "metadata": {},
   "outputs": [
    {
     "data": {
      "text/plain": [
       "386"
      ]
     },
     "execution_count": 77,
     "metadata": {},
     "output_type": "execute_result"
    }
   ],
   "source": [
    "total_palavras"
   ]
  },
  {
   "cell_type": "code",
   "execution_count": 78,
   "metadata": {},
   "outputs": [
    {
     "data": {
      "text/plain": [
       "10"
      ]
     },
     "execution_count": 78,
     "metadata": {},
     "output_type": "execute_result"
    }
   ],
   "source": [
    "total_frases"
   ]
  },
  {
   "cell_type": "code",
   "execution_count": null,
   "metadata": {},
   "outputs": [],
   "source": []
  }
 ],
 "metadata": {
  "colab": {
   "provenance": []
  },
  "kernelspec": {
   "display_name": "Python 3 (ipykernel)",
   "language": "python",
   "name": "python3"
  },
  "language_info": {
   "codemirror_mode": {
    "name": "ipython",
    "version": 3
   },
   "file_extension": ".py",
   "mimetype": "text/x-python",
   "name": "python",
   "nbconvert_exporter": "python",
   "pygments_lexer": "ipython3",
   "version": "3.8.10"
  }
 },
 "nbformat": 4,
 "nbformat_minor": 4
}
