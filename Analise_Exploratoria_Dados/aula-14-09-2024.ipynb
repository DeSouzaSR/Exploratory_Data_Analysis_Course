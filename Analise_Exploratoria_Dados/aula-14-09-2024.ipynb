{
 "cells": [
  {
   "cell_type": "code",
   "execution_count": 19,
   "id": "f1895ab9-611b-4ab4-a250-3a9502df3379",
   "metadata": {},
   "outputs": [],
   "source": [
    "import numpy as np\n",
    "import pandas as pd\n",
    "import statistics as st\n",
    "from collections import Counter"
   ]
  },
  {
   "cell_type": "markdown",
   "id": "4b71daf1-8872-4b10-9476-39138797ed69",
   "metadata": {},
   "source": [
    "## Média aritmética"
   ]
  },
  {
   "cell_type": "markdown",
   "id": "3b627432-fc25-4e62-a024-a174f5106bba",
   "metadata": {},
   "source": [
    "### manualmente"
   ]
  },
  {
   "cell_type": "code",
   "execution_count": 1,
   "id": "f22e439c-442a-46fe-99c5-0c17bdc13c21",
   "metadata": {},
   "outputs": [
    {
     "name": "stdout",
     "output_type": "stream",
     "text": [
      "Média Aritmética:  7.94\n"
     ]
    }
   ],
   "source": [
    "notas_alunos = [9.5, 7.2, 4.1, 8.9, 10.0]\n",
    "\n",
    "media_aritmetica = sum(notas_alunos) /  len(notas_alunos)\n",
    "\n",
    "print(f'Média Aritmética: {media_aritmetica: .2f}')"
   ]
  },
  {
   "cell_type": "markdown",
   "id": "40b9a874-badb-42d4-9dda-e31142e0bbdf",
   "metadata": {},
   "source": [
    "### numpy"
   ]
  },
  {
   "cell_type": "code",
   "execution_count": 4,
   "id": "8329c37e-9018-4578-8c9d-f612bc76b3c9",
   "metadata": {},
   "outputs": [
    {
     "name": "stdout",
     "output_type": "stream",
     "text": [
      "Média Aritmética:  7.94\n"
     ]
    }
   ],
   "source": [
    "media_aritmetica_numpy = np.mean(notas_alunos)\n",
    "print(f'Média Aritmética: {media_aritmetica_numpy: .2f}')"
   ]
  },
  {
   "cell_type": "markdown",
   "id": "2440e2ab-730a-4cb0-b51b-49dfd0b5298f",
   "metadata": {},
   "source": [
    "### pandas"
   ]
  },
  {
   "cell_type": "code",
   "execution_count": 5,
   "id": "b9a203e0-09ca-4b44-8805-68bd678f7cc8",
   "metadata": {},
   "outputs": [],
   "source": [
    "df_notas = pd.DataFrame({'Notas': notas_alunos})"
   ]
  },
  {
   "cell_type": "code",
   "execution_count": 8,
   "id": "b26e63bc-4b73-4b67-866d-68f8476b443c",
   "metadata": {},
   "outputs": [
    {
     "name": "stdout",
     "output_type": "stream",
     "text": [
      "Média Aritmética:  7.94\n"
     ]
    }
   ],
   "source": [
    "media_aritmetica_pandas = df_notas['Notas'].mean()\n",
    "print(f'Média Aritmética: {media_aritmetica_pandas: .2f}')"
   ]
  },
  {
   "cell_type": "markdown",
   "id": "71b234f4-0232-43f9-8a03-3e4fca6519fd",
   "metadata": {},
   "source": [
    "## Média ponderada"
   ]
  },
  {
   "cell_type": "markdown",
   "id": "c8ab6262-0a95-4607-91a0-9d85c033870c",
   "metadata": {},
   "source": [
    "### Manualmente"
   ]
  },
  {
   "cell_type": "code",
   "execution_count": 10,
   "id": "1c7a84f7-607f-4e88-9518-659f7c476cc1",
   "metadata": {},
   "outputs": [
    {
     "name": "stdout",
     "output_type": "stream",
     "text": [
      "\n",
      "Média Ponderada:  7.88\n"
     ]
    }
   ],
   "source": [
    "notas_alunos = [9.5, 7.2, 4.1, 8.9, 10.0]\n",
    "pesos =        [0.1, 0.2, 0.2, 0.3, 0.2]\n",
    "\n",
    "media_ponderada = 0\n",
    "for nota, peso in zip(notas_alunos, pesos):\n",
    "    media_ponderada += nota * peso\n",
    "\n",
    "media_poderada = media_ponderada / sum(pesos)\n",
    "print(f'\\nMédia Ponderada: {media_ponderada: .02f}')"
   ]
  },
  {
   "cell_type": "markdown",
   "id": "ac2478d9-7991-4c52-b355-212d2a1432f8",
   "metadata": {},
   "source": [
    "### Numpy"
   ]
  },
  {
   "cell_type": "code",
   "execution_count": 12,
   "id": "2cde3d3a-275f-4a9d-abd1-b620a82d67b6",
   "metadata": {},
   "outputs": [
    {
     "name": "stdout",
     "output_type": "stream",
     "text": [
      "\n",
      "Média Ponderada com numpy:  7.88\n"
     ]
    }
   ],
   "source": [
    "media_poderada_np = np.average(notas_alunos, weights=pesos)\n",
    "\n",
    "media_poderada_numpy = np.average(notas_alunos, weights=pesos)\n",
    "print(f'\\nMédia Ponderada com numpy: {media_poderada_numpy: .02f}')"
   ]
  },
  {
   "cell_type": "markdown",
   "id": "34bf34db-b4a4-401d-8c6a-7bac25621542",
   "metadata": {},
   "source": [
    "### Pandas\n",
    "Fazer em casa"
   ]
  },
  {
   "cell_type": "markdown",
   "id": "586b4704-7895-493b-8d8a-6d715722d9ee",
   "metadata": {},
   "source": [
    "## Moda"
   ]
  },
  {
   "cell_type": "code",
   "execution_count": 17,
   "id": "6b7f8432-70ff-433a-b4ee-baa52f566480",
   "metadata": {},
   "outputs": [
    {
     "name": "stdout",
     "output_type": "stream",
     "text": [
      "Moda: (4.1, 3)\n"
     ]
    }
   ],
   "source": [
    "notas_alunos = [9.5, 7.2, 4.1, 8.9, 10.0, 4.1, 8.5, 6.3, 9.0, 4.1, 8.5]\n",
    "\n",
    "c = Counter(notas_alunos)\n",
    "\n",
    "moda = c.most_common()[0]\n",
    "\n",
    "print(f'Moda: {moda}')"
   ]
  },
  {
   "cell_type": "markdown",
   "id": "52be94a4-4714-4535-a606-5707394c4e8e",
   "metadata": {},
   "source": [
    "### Pandas"
   ]
  },
  {
   "cell_type": "code",
   "execution_count": 18,
   "id": "1b09d5f8-cd17-4ce0-baeb-d85f20e9ac26",
   "metadata": {},
   "outputs": [
    {
     "name": "stdout",
     "output_type": "stream",
     "text": [
      "Moda: 0    4.1\n",
      "Name: Notas, dtype: float64\n"
     ]
    }
   ],
   "source": [
    "df_notas_alunos = pd.DataFrame({'Notas':notas_alunos})\n",
    "moda = df_notas_alunos['Notas'].mode()\n",
    "print(f'Moda: {moda}')"
   ]
  },
  {
   "cell_type": "markdown",
   "id": "98355041-3939-4df2-a49b-fb8636dd79ee",
   "metadata": {},
   "source": [
    "### Numpy"
   ]
  },
  {
   "cell_type": "code",
   "execution_count": 20,
   "id": "97e7e92f-572b-4e3d-8d9d-9167c2d5fb38",
   "metadata": {},
   "outputs": [
    {
     "name": "stdout",
     "output_type": "stream",
     "text": [
      "Mediana: 8.5\n"
     ]
    }
   ],
   "source": [
    "notas_alunos = [9.5, 7.2, 4.1, 8.9, 10.0, 4.1, 8.5, 6.3, 9.0,\n",
    "                4.1, 8.5]\n",
    "\n",
    "mediana = np.median(notas_alunos)\n",
    "\n",
    "print(f'Mediana: {mediana}')"
   ]
  },
  {
   "cell_type": "code",
   "execution_count": null,
   "id": "dfd19263-9a8f-4887-be5a-45dbb55fed42",
   "metadata": {},
   "outputs": [],
   "source": []
  }
 ],
 "metadata": {
  "kernelspec": {
   "display_name": "Python 3 (ipykernel)",
   "language": "python",
   "name": "python3"
  },
  "language_info": {
   "codemirror_mode": {
    "name": "ipython",
    "version": 3
   },
   "file_extension": ".py",
   "mimetype": "text/x-python",
   "name": "python",
   "nbconvert_exporter": "python",
   "pygments_lexer": "ipython3",
   "version": "3.8.10"
  }
 },
 "nbformat": 4,
 "nbformat_minor": 5
}
